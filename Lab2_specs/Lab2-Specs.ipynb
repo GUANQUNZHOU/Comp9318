{
 "cells": [
  {
   "cell_type": "markdown",
   "metadata": {},
   "source": [
    "# COMP9318 Lab2"
   ]
  },
  {
   "cell_type": "markdown",
   "metadata": {
    "collapsed": true
   },
   "source": [
    "## Instructions\n",
    "1. This note book contains instructions for **COMP9318-Lab2**.\n",
    "\n",
    "* You are required to complete your implementation in a file `submission.py` provided along with this notebook.\n",
    "\n",
    "* You are not allowed to print out unnecessary stuff. We will not consider any output printed out on the screen. All results should be returned in appropriate data structures return by corresponding functions.\n",
    "\n",
    "* You need to submit the code for **lab2** via following link: https://kg.cse.unsw.edu.au/submit/\n",
    "\n",
    "* For each question, we have provided you with detailed instructions along with question headings. In case of any problem, you can post your query @ Piazza.\n",
    "\n",
    "* If you choose to skip a question, leave the corresponding function body as it is (i.e., keep the `pass` line), otherwise it may affect your mark for other questions.\n",
    "\n",
    "* You are allowed to add other functions and/or import additional modules (you may have to in this lab), but you are not allowed to define global variables. **Only functions are allowed** in `submission.py`. \n",
    "\n",
    "* You should not import unnecessary modules/libraries, failing to import such modules at test time will lead to errors.\n",
    "\n",
    "* We will provide immediate feedback on your submission. You can access your scores using the online submission portal on the same day. \n",
    "\n",
    "* For **Final Evaluation** we will be using a different dataset, so your final scores may vary.  \n",
    "\n",
    "* You are allowed to submit as many times as you want before the deadline, but **ONLY the latest version will be kept and marked**.\n",
    "\n",
    "* Submission deadline for this assignment is **23:59:59 on 21st March, 2019**. We will **not** accept any late submissions."
   ]
  },
  {
   "cell_type": "markdown",
   "metadata": {},
   "source": [
    "# Question 1: Optimal binning algorithm using dynamic programming (100 points)"
   ]
  },
  {
   "cell_type": "code",
   "execution_count": 14,
   "metadata": {},
   "outputs": [],
   "source": [
    "# These are the only modules that you can use in lab2\n",
    "import pandas as pd\n",
    "import numpy as np"
   ]
  },
  {
   "cell_type": "markdown",
   "metadata": {},
   "source": [
    "In this lab, you need to implement the optimal binning algorithm using the dynamic programming algorithm we discussed in the lecture. You are only allowed to use $O(n^2)$ space. \n",
    "\n",
    "## Input\n",
    "\n",
    "The input contains data (in a list) and the number of bins (an integer).\n",
    "\n",
    "## Output\n",
    "\n",
    "You are required to output the binning result and the matrix computed by the algorithm.\n",
    "\n",
    "The matrix entries record optimal binning cost for a suffix of the input array using a certain number of bins. You should assign -1 to all the invalid solutions."
   ]
  },
  {
   "cell_type": "code",
   "execution_count": 15,
   "metadata": {},
   "outputs": [],
   "source": [
    "x = [3, 1, 18, 11, 13, 17]\n",
    "num_bins = 4"
   ]
  },
  {
   "cell_type": "code",
   "execution_count": 16,
   "metadata": {},
   "outputs": [],
   "source": [
    "def v_opt_dp(x, b):# do not change the heading of the function\n",
    "    matrix = [[-1 for i in range(len(x))] for j in range(num_bins)]\n",
    "    matrix_index = [[-1 for i in range(len(x))] for j in range(num_bins)]\n",
    "    for i in range(num_bins):\n",
    "        for j in range(len(x)):\n",
    "            if num_bins-i-j <= 1  and len(x)-j>=i+1:\n",
    "                if i == 0:\n",
    "                    matrix[i][j] = np.var(x[j:])*len(x[j:])\n",
    "                else:\n",
    "                    miinl = []\n",
    "                    miinl.append(matrix[i-1][j+1])\n",
    "                    for k in range(j+2,len(x)):\n",
    "                        miinl.append(matrix[i-1][k]+np.var(x[j:k])*(k-j))\n",
    "                    matrix[i][j] = min(miinl)\n",
    "                    matrix_index[i][j] = miinl.index(matrix[i][j])+j+1\n",
    "\n",
    "    '''\n",
    "    for row in matrix:\n",
    "        print(row)\n",
    "    '''\n",
    "    #print(matrix_index)\n",
    "    start = matrix_index[-1][0]\n",
    "    startcopy = start\n",
    "    bins = [x[:start]]\n",
    "    for g in range(len(matrix_index) - 2, 0, -1):\n",
    "        start = matrix_index[g][start]\n",
    "        bins.append(x[startcopy:start])\n",
    "        startcopy = start\n",
    "    bins.append(x[startcopy:])\n",
    "    return matrix,bins"
   ]
  },
  {
   "cell_type": "code",
   "execution_count": 17,
   "metadata": {},
   "outputs": [
    {
     "name": "stdout",
     "output_type": "stream",
     "text": [
      "Bins = [[3, 1], [18], [11, 13], [17]]\n",
      "Matrix =\n",
      "[-1, -1, -1, 18.666666666666664, 8.0, 0.0]\n",
      "[-1, -1, 18.666666666666664, 2.0, 0.0, -1]\n",
      "[-1, 18.666666666666664, 2.0, 0.0, -1, -1]\n",
      "[4.0, 2.0, 0.0, -1, -1, -1]\n"
     ]
    }
   ],
   "source": [
    "## You can test your implementation using the following code...\n",
    "\n",
    "import submission as submission\n",
    "matrix, bins = v_opt_dp(x, num_bins)\n",
    "print(\"Bins = {}\".format(bins))\n",
    "print(\"Matrix =\") \n",
    "for row in matrix:\n",
    "    print(row)"
   ]
  },
  {
   "cell_type": "code",
   "execution_count": null,
   "metadata": {},
   "outputs": [],
   "source": []
  },
  {
   "cell_type": "code",
   "execution_count": null,
   "metadata": {
    "collapsed": true
   },
   "outputs": [],
   "source": []
  }
 ],
 "metadata": {
  "kernelspec": {
   "display_name": "Python 3",
   "language": "python",
   "name": "python3"
  },
  "language_info": {
   "codemirror_mode": {
    "name": "ipython",
    "version": 3
   },
   "file_extension": ".py",
   "mimetype": "text/x-python",
   "name": "python",
   "nbconvert_exporter": "python",
   "pygments_lexer": "ipython3",
   "version": "3.7.1"
  }
 },
 "nbformat": 4,
 "nbformat_minor": 1
}
